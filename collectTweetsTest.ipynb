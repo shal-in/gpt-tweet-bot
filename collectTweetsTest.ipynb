{
 "cells": [
  {
   "cell_type": "code",
   "execution_count": 57,
   "metadata": {},
   "outputs": [],
   "source": [
    "import time\n",
    "from selenium import webdriver\n",
    "from selenium.webdriver.chrome.options import Options\n",
    "from selenium.webdriver.common.by import By"
   ]
  },
  {
   "cell_type": "code",
   "execution_count": 64,
   "metadata": {},
   "outputs": [],
   "source": [
    "def extractHTML(HTMLcards, username, tweets_list, max_tweets):\n",
    "    if '@' not in username:\n",
    "        username = '@' + username\n",
    "        \n",
    "    for card in HTMLcards:\n",
    "        if len(tweets_list) == max_tweets:\n",
    "            break\n",
    "        handle = card.find_element(By.XPATH, './/span[contains(text(), \"@\")]').text\n",
    "        tweet = card.find_element(By.XPATH, './/div[2]/div[2]/div[2]').text\n",
    "        if handle != username:\n",
    "            continue\n",
    "        if tweet in tweets_list:\n",
    "            continue\n",
    "        tweets_list.append(tweet)\n",
    "\n",
    "    return tweets_list"
   ]
  },
  {
   "cell_type": "code",
   "execution_count": 65,
   "metadata": {},
   "outputs": [],
   "source": [
    "def getTweets(username, max_tweets=50):\n",
    "\n",
    "    # Configure Chrome options for headless browsing\n",
    "    chrome_options = Options()\n",
    "    chrome_options.add_argument(\"--headless\")  # Run Chrome in headless mode\n",
    "    chrome_options.add_argument(\"--disable-gpu\")  # Disable GPU acceleration\n",
    "\n",
    "    # Create a WebDriver instance with headless Chrome\n",
    "    driver = webdriver.Chrome(options=chrome_options)\n",
    "\n",
    "    driver.get(f\"https://twitter.com/{username}\")\n",
    "\n",
    "    time.sleep(2)\n",
    "\n",
    "    tweets_list = []\n",
    "    retry_counter = 0\n",
    "    while len(tweets_list) < max_tweets:\n",
    "        if retry_counter >= 3:\n",
    "            break\n",
    "        \n",
    "        window_height = driver.execute_script(\"return window.innerHeight;\")\n",
    "        num_tweets = len(tweets_list)\n",
    "        # print (num_tweets)\n",
    "\n",
    "        HTMLcards = driver.find_elements(By.XPATH, '//article[@data-testid=\"tweet\"]')\n",
    "\n",
    "        tweets = extractHTML(HTMLcards, username, tweets_list=tweets_list, max_tweets=max_tweets)\n",
    "        tweets_list = tweets\n",
    "\n",
    "        if num_tweets == len(tweets_list):\n",
    "            retry_counter += 1\n",
    "            # print (f'retry: {retry_counter}')\n",
    "        else:\n",
    "            retry_counter = 0\n",
    "            \n",
    "        driver.execute_script(f\"window.scrollBy(0, {5 * window_height});\")\n",
    "\n",
    "        time.sleep(1.25)\n",
    "\n",
    "    driver.quit()\n",
    "\n",
    "    return tweets_list"
   ]
  },
  {
   "cell_type": "code",
   "execution_count": 68,
   "metadata": {},
   "outputs": [],
   "source": [
    "tweets = getTweets('shalin_1', max_tweets=50)"
   ]
  },
  {
   "cell_type": "code",
   "execution_count": null,
   "metadata": {},
   "outputs": [],
   "source": []
  }
 ],
 "metadata": {
  "kernelspec": {
   "display_name": "Python 3",
   "language": "python",
   "name": "python3"
  },
  "language_info": {
   "codemirror_mode": {
    "name": "ipython",
    "version": 3
   },
   "file_extension": ".py",
   "mimetype": "text/x-python",
   "name": "python",
   "nbconvert_exporter": "python",
   "pygments_lexer": "ipython3",
   "version": "3.10.4"
  },
  "orig_nbformat": 4
 },
 "nbformat": 4,
 "nbformat_minor": 2
}
